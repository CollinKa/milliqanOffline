{
 "cells": [
  {
   "cell_type": "code",
   "execution_count": 1,
   "id": "18adb8ad",
   "metadata": {},
   "outputs": [
    {
     "name": "stdout",
     "output_type": "stream",
     "text": [
      "Welcome to JupyROOT 6.24/07\n"
     ]
    },
    {
     "name": "stderr",
     "output_type": "stream",
     "text": [
      "/cvmfs/cms.cern.ch/slc7_amd64_gcc10/external/py3-setuptools/60.9.3-ddcab3b6a742c72fed5554de8ccaaf18/lib/python3.9/site-packages/_distutils_hack/__init__.py:17: UserWarning: Distutils was imported before Setuptools, but importing Setuptools also replaces the `distutils` module in `sys.modules`. This may lead to undesirable behaviors or errors. To avoid these issues, avoid using distutils directly, ensure that setuptools is installed in the traditional way (e.g. not an editable install), and/or make sure that setuptools is always imported before distutils.\n",
      "  warnings.warn(\n",
      "/cvmfs/cms.cern.ch/slc7_amd64_gcc10/external/py3-setuptools/60.9.3-ddcab3b6a742c72fed5554de8ccaaf18/lib/python3.9/site-packages/_distutils_hack/__init__.py:30: UserWarning: Setuptools is replacing distutils.\n",
      "  warnings.warn(\"Setuptools is replacing distutils.\")\n"
     ]
    }
   ],
   "source": [
    "import os\n",
    "import sys\n",
    "from milliqanProcessor import *\n",
    "from milliqanScheduler import *\n",
    "from milliqanCuts import *\n",
    "from milliqanPlotter import *\n"
   ]
  },
  {
   "cell_type": "code",
   "execution_count": 2,
   "id": "165d5941",
   "metadata": {},
   "outputs": [],
   "source": [
    "filelist =['/mnt/hadoop/se/store/user/milliqan/trees/v34/MilliQan_Run1190.155_v34.root:t']"
   ]
  },
  {
   "cell_type": "code",
   "execution_count": 3,
   "id": "589baf7b",
   "metadata": {},
   "outputs": [],
   "source": [
    "branches = ['boardsMatched', 'height', 'layer','type','chan','pickupFlag']"
   ]
  },
  {
   "cell_type": "code",
   "execution_count": 4,
   "id": "4c8bef52",
   "metadata": {},
   "outputs": [],
   "source": [
    "#define the milliqan cuts object\n",
    "mycuts = milliqanCuts()\n",
    "\n",
    "#example of changing cut value\n",
    "#create cut so it can read the 1 NPE signal(36mV)\n",
    "heightCutLowEphoton = mycuts.getCut(mycuts.heightCut, 'heightCutLowEphoton', cut=36)\n",
    "\n",
    "#example of cutting on events\n",
    "fourLayerCut = mycuts.getCut(mycuts.fourLayerCut, 'fourLayerCut', cut=False)"
   ]
  },
  {
   "cell_type": "code",
   "execution_count": 15,
   "id": "bd176c2f",
   "metadata": {},
   "outputs": [],
   "source": [
    "#example of creating a combined cut\n",
    "eventCuts = mycuts.getCut(mycuts.combineCuts, 'eventCuts', ['fourLayerCut', 'fourLayerCut'])"
   ]
  },
  {
   "cell_type": "code",
   "execution_count": 16,
   "id": "c2fc7a91",
   "metadata": {},
   "outputs": [],
   "source": [
    "pickupCut = mycuts.getCut(mycuts.pickupCut, 'pickupCut', cut=True, branches=branches)\n",
    "\n",
    "#require that all digitizer boards are matched\n",
    "boardMatchCut = mycuts.getCut(mycuts.boardsMatched, 'boardMatchCut', cut=True, branches=branches)"
   ]
  },
  {
   "cell_type": "code",
   "execution_count": 17,
   "id": "288b7ddd",
   "metadata": {},
   "outputs": [
    {
     "name": "stderr",
     "output_type": "stream",
     "text": [
      "Warning in <TROOT::Append>: Replacing existing TH1: n_BARS (Potential memory leak).\n"
     ]
    }
   ],
   "source": [
    "#define milliqan plotter\n",
    "myplotter = milliqanPlotter()\n",
    "\n",
    "#create root histogram \n",
    "nbars = r.TH1F(\"n_BARS\", \"n_BARS\", 32, 0, 32)\n",
    "\n",
    "#add root histogram to plotter\n",
    "\n",
    "#in my function NBarHitsplot, there is no need to use any \"variable\".\n",
    "#The \"height\" at here is just a place holder, so function milliqanPlot() doesn't crash\n",
    "myplotter.addHistograms(nbars, 'height')"
   ]
  },
  {
   "cell_type": "code",
   "execution_count": 18,
   "id": "ce16045b",
   "metadata": {},
   "outputs": [
    {
     "name": "stdout",
     "output_type": "stream",
     "text": [
      "----------------------------\n",
      "MilliQan Scheduler:\n",
      "\t0. boardMatchCut\n",
      "\t1. pickupCut\n",
      "\t2. fourLayerCut\n",
      "\t3. eventCuts\n",
      "----------------------------\n"
     ]
    }
   ],
   "source": [
    "#defining the cutflow\n",
    "cutflow = [boardMatchCut, pickupCut, mycuts.fourLayerCut, eventCuts]\n",
    "\n",
    "#create a schedule of the cuts\n",
    "myschedule = milliQanScheduler(cutflow, mycuts, myplotter)\n",
    "\n",
    "#print out the schedule\n",
    "myschedule.printSchedule()"
   ]
  },
  {
   "cell_type": "code",
   "execution_count": 19,
   "id": "478e5b1d",
   "metadata": {},
   "outputs": [],
   "source": [
    "#create the milliqan processor object\n",
    "myiterator = milliqanProcessor(filelist, branches, myschedule, mycuts, myplotter, max_events=1000)"
   ]
  },
  {
   "cell_type": "code",
   "execution_count": 20,
   "id": "4f43bee6",
   "metadata": {},
   "outputs": [
    {
     "name": "stdout",
     "output_type": "stream",
     "text": [
      "Number of events 1000\n"
     ]
    }
   ],
   "source": [
    "#run the milliqan processor\n",
    "myiterator.run()"
   ]
  },
  {
   "cell_type": "code",
   "execution_count": 22,
   "id": "bbb6a8f3",
   "metadata": {},
   "outputs": [
    {
     "name": "stderr",
     "output_type": "stream",
     "text": [
      "Warning in <TCanvas::Constructor>: Deleting canvas with same name: c1\n"
     ]
    },
    {
     "data": {
      "image/png": "[encoded data removed]",
      "text/plain": [
       "<IPython.core.display.Image object>"
      ]
     },
     "metadata": {},
     "output_type": "display_data"
    }
   ],
   "source": [
    "c1 = r.TCanvas(\"c1\", \"c1\", 400, 400)\n",
    "c1.cd()\n",
    "nbars.Draw()\n",
    "c1.Draw()"
   ]
  },
  {
   "cell_type": "code",
   "execution_count": null,
   "id": "c8e55df7",
   "metadata": {},
   "outputs": [],
   "source": []
  },
  {
   "cell_type": "code",
   "execution_count": null,
   "id": "8fa7ffba",
   "metadata": {},
   "outputs": [],
   "source": []
  },
  {
   "cell_type": "code",
   "execution_count": null,
   "id": "09e3fa56",
   "metadata": {},
   "outputs": [],
   "source": []
  },
  {
   "cell_type": "code",
   "execution_count": null,
   "id": "118314d4",
   "metadata": {},
   "outputs": [],
   "source": []
  },
  {
   "cell_type": "code",
   "execution_count": null,
   "id": "371124b1",
   "metadata": {},
   "outputs": [],
   "source": []
  },
  {
   "cell_type": "code",
   "execution_count": null,
   "id": "c125824c",
   "metadata": {},
   "outputs": [],
   "source": []
  },
  {
   "cell_type": "code",
   "execution_count": null,
   "id": "1d49592f",
   "metadata": {},
   "outputs": [],
   "source": []
  },
  {
   "cell_type": "code",
   "execution_count": null,
   "id": "cfc7bbbe",
   "metadata": {},
   "outputs": [],
   "source": []
  },
  {
   "cell_type": "code",
   "execution_count": null,
   "id": "a13d2115",
   "metadata": {},
   "outputs": [],
   "source": []
  },
  {
   "cell_type": "code",
   "execution_count": null,
   "id": "8ba2b7fc",
   "metadata": {},
   "outputs": [],
   "source": []
  }
 ],
 "metadata": {
  "kernelspec": {
   "display_name": "Python 3 (ipykernel)",
   "language": "python",
   "name": "python3"
  },
  "language_info": {
   "codemirror_mode": {
    "name": "ipython",
    "version": 3
   },
   "file_extension": ".py",
   "mimetype": "text/x-python",
   "name": "python",
   "nbconvert_exporter": "python",
   "pygments_lexer": "ipython3",
   "version": "3.9.6"
  }
 },
 "nbformat": 4,
 "nbformat_minor": 5
}
