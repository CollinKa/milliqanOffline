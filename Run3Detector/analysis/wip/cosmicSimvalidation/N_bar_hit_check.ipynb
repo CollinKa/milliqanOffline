{
 "cells": [
  {
   "cell_type": "code",
   "execution_count": 1,
   "id": "18adb8ad",
   "metadata": {},
   "outputs": [],
   "source": [
    "import os\n",
    "import sys\n",
    "\n"
   ]
  },
  {
   "cell_type": "code",
   "execution_count": 2,
   "id": "7e96756b",
   "metadata": {},
   "outputs": [
    {
     "name": "stdout",
     "output_type": "stream",
     "text": [
      "Welcome to JupyROOT 6.24/07\n"
     ]
    },
    {
     "name": "stderr",
     "output_type": "stream",
     "text": [
      "/cvmfs/cms.cern.ch/slc7_amd64_gcc10/external/py3-setuptools/60.9.3-ddcab3b6a742c72fed5554de8ccaaf18/lib/python3.9/site-packages/_distutils_hack/__init__.py:17: UserWarning: Distutils was imported before Setuptools, but importing Setuptools also replaces the `distutils` module in `sys.modules`. This may lead to undesirable behaviors or errors. To avoid these issues, avoid using distutils directly, ensure that setuptools is installed in the traditional way (e.g. not an editable install), and/or make sure that setuptools is always imported before distutils.\n",
      "  warnings.warn(\n",
      "/cvmfs/cms.cern.ch/slc7_amd64_gcc10/external/py3-setuptools/60.9.3-ddcab3b6a742c72fed5554de8ccaaf18/lib/python3.9/site-packages/_distutils_hack/__init__.py:30: UserWarning: Setuptools is replacing distutils.\n",
      "  warnings.warn(\"Setuptools is replacing distutils.\")\n"
     ]
    }
   ],
   "source": [
    "from milliqanProcessor import *\n",
    "from milliqanScheduler import *\n",
    "from milliqanCuts import *\n",
    "from milliqanPlotter import *"
   ]
  },
  {
   "cell_type": "code",
   "execution_count": 3,
   "id": "165d5941",
   "metadata": {},
   "outputs": [],
   "source": [
    "filelist =['/mnt/hadoop/se/store/user/milliqan/trees/v34/MilliQan_Run1190.155_v34.root:t']"
   ]
  },
  {
   "cell_type": "markdown",
   "id": "b695d8ac",
   "metadata": {},
   "source": [
    "filelist = []\n",
    "directory = '/mnt/hadoop/se/store/user/milliqan/trees/v34/'\n",
    "base_name = \"MilliQan_Run1190\"\n",
    "for filename in os.listdir(directory):\n",
    "    if filename.startswith(base_name) and filename.endswith(\".root\"):\n",
    "        filelist.append(directory+filename)"
   ]
  },
  {
   "cell_type": "code",
   "execution_count": 4,
   "id": "589baf7b",
   "metadata": {},
   "outputs": [],
   "source": [
    "branches = ['boardsMatched', 'height', 'layer','type','chan','pickupFlag']"
   ]
  },
  {
   "cell_type": "code",
   "execution_count": null,
   "id": "fd493a4b",
   "metadata": {},
   "outputs": [],
   "source": [
    "#define the milliqan cuts object\n",
    "mycuts = milliqanCuts()\n",
    "\n",
    "#example of changing cut value\n",
    "#create cut so it can read the 1 NPE signal(36mV)\n",
    "#with \"branches=branches\" it remove all pulses below 36mV\n",
    "heightCutLowEphoton = mycuts.getCut(mycuts.heightCut, 'heightCutLowEphoton', cut=36, branches=branches)\n",
    "\n",
    "#example of cutting on events\n",
    "#event based cut\n",
    "#fourLayerCut is a branch event based tag. But each pulse in a same event has same tag.\n",
    "#with \"cut = True\", event being tagged as fail will be removed from the table.\n",
    "fourLayerCut = mycuts.getCut(mycuts.fourLayerCut, 'fourLayerCut', cut=True)\n",
    "\n",
    "barCut = mycuts.getCut(mycuts.barCut,'barCut', cut=True)"
   ]
  },
  {
   "cell_type": "code",
   "execution_count": null,
   "id": "b0afaead",
   "metadata": {},
   "outputs": [],
   "source": [
    "#example of creating a combined cut\n",
    "#I need to put the barCut into the event cut, since the bar the cut by de\n",
    "\n",
    "#things inside ['fourLayerCut'] is used for checking t/f value inside the table. BTW the reason pickup and boardmaching is not here is that those two function has cut off the event being tagged as false in eight those two columns.\n",
    "#this is done at the \"branches = branch\" section\n",
    "\n",
    "eventCuts = mycuts.getCut(mycuts.combineCuts, 'eventCuts', ['fourLayerCut','bar','f'])\n"
   ]
  },
  {
   "cell_type": "code",
   "execution_count": null,
   "id": "bf9ee9c0",
   "metadata": {},
   "outputs": [],
   "source": [
    "pickupCut = mycuts.getCut(mycuts.pickupCut, 'pickupCut', cut=True, branches=branches)\n",
    "\n",
    "#require that all digitizer boards are matched\n",
    "boardMatchCut = mycuts.getCut(mycuts.boardsMatched, 'boardMatchCut', cut=True, branches=branches)"
   ]
  },
  {
   "cell_type": "code",
   "execution_count": null,
   "id": "e2d09fe6",
   "metadata": {},
   "outputs": [],
   "source": [
    "#define milliqan plotter\n",
    "myplotter = milliqanPlotter()\n",
    "\n",
    "#create root histogram \n",
    "nbars = r.TH1F(\"nbars\", \"n_BARS\", 32, 0, 32)\n",
    "\n",
    "#add root histogram to plotter\n",
    "\n",
    "#in my function NBarHitsplot, there is no need to use any \"variable\".\n",
    "#The \"height\" at here is just a place holder, so function milliqanPlot() doesn't crash\n",
    "myplotter.addHistograms(nbars, 'height')"
   ]
  },
  {
   "cell_type": "code",
   "execution_count": null,
   "id": "9f0d2a0a",
   "metadata": {},
   "outputs": [],
   "source": [
    "#defining the cutflow\n",
    "#bar cut is causing a bug\n",
    "#cutflow = [boardMatchCut, pickupCut,heightCutLowEphoton,barCut,fourLayerCut, myplotter.dict['nbars']]\n",
    "cutflow = [boardMatchCut, pickupCut,heightCutLowEphoton,fourLayerCut, myplotter.dict['nbars']]"
   ]
  },
  {
   "cell_type": "code",
   "execution_count": null,
   "id": "0e50dfd6",
   "metadata": {},
   "outputs": [],
   "source": [
    "\n",
    "\n",
    "#create a schedule of the cuts\n",
    "myschedule = milliQanScheduler(cutflow, mycuts, myplotter)\n",
    "\n",
    "#print out the schedule\n",
    "myschedule.printSchedule()"
   ]
  },
  {
   "cell_type": "code",
   "execution_count": null,
   "id": "48bc24e3",
   "metadata": {},
   "outputs": [],
   "source": [
    "myiterator = milliqanProcessor(filelist, branches, myschedule, mycuts, myplotter,max_events=2)"
   ]
  },
  {
   "cell_type": "code",
   "execution_count": null,
   "id": "02d1e61e",
   "metadata": {},
   "outputs": [],
   "source": [
    "#run the milliqan processor\n",
    "myiterator.run()"
   ]
  },
  {
   "cell_type": "code",
   "execution_count": null,
   "id": "81c35740",
   "metadata": {},
   "outputs": [],
   "source": [
    "c1 = r.TCanvas(\"c1\", \"c1\", 400, 400)\n",
    "c1.cd()\n",
    "nbars.Draw()\n",
    "c1.Draw()"
   ]
  },
  {
   "cell_type": "code",
   "execution_count": null,
   "id": "ac6fd656",
   "metadata": {},
   "outputs": [],
   "source": []
  },
  {
   "cell_type": "code",
   "execution_count": null,
   "id": "f2af1b39",
   "metadata": {},
   "outputs": [],
   "source": []
  },
  {
   "cell_type": "code",
   "execution_count": null,
   "id": "45128b20",
   "metadata": {},
   "outputs": [],
   "source": []
  },
  {
   "cell_type": "code",
   "execution_count": null,
   "id": "d4d9984d",
   "metadata": {},
   "outputs": [],
   "source": []
  },
  {
   "cell_type": "code",
   "execution_count": null,
   "id": "cb5345cd",
   "metadata": {},
   "outputs": [],
   "source": []
  },
  {
   "cell_type": "code",
   "execution_count": null,
   "id": "4e8f9b2f",
   "metadata": {},
   "outputs": [],
   "source": [
    "#demo\n",
    "#define the necessary branches to run over\n",
    "branches = ['boardsMatched', 'time_module_calibrated', 'height', 'area', 'column', 'row', 'layer']\n",
    "\n",
    "#define the milliqan cuts object\n",
    "mycuts = milliqanCuts()\n",
    "\n",
    "#example of changing cut value\n",
    "heightCut200 = mycuts.getCut(mycuts.heightCut, 'heightCut200', cut=500)\n",
    "\n",
    "#example of cutting on events\n",
    "fourLayerCut = mycuts.getCut(mycuts.fourLayerCut, 'fourLayerCut', cut=False)\n",
    "\n",
    "#example of creating a combined cut\n",
    "eventCuts = mycuts.getCut(mycuts.combineCuts, 'eventCuts', ['fourLayerCut', 'straightLineCut', 'heightCut200'])\n",
    "\n",
    "#define milliqan plotter\n",
    "myplotter = milliqanPlotter()\n",
    "\n",
    "#create root histogram \n",
    "h_height = r.TH1F(\"h_height\", \"Height\", 140, 0, 1400)\n",
    "\n",
    "#add root histogram to plotter\n",
    "myplotter.addHistograms(h_height, 'height', 'eventCuts')\n",
    "\n"
   ]
  },
  {
   "cell_type": "code",
   "execution_count": null,
   "id": "efc6d278",
   "metadata": {},
   "outputs": [],
   "source": [
    "\n",
    "#defining the cutflow\n",
    "cutflow = [mycuts.layerCut, mycuts.fourLayerCut, mycuts.straightLineCut, heightCut200, eventCuts, myplotter.dict['h_height']]"
   ]
  },
  {
   "cell_type": "code",
   "execution_count": null,
   "id": "e502f7df",
   "metadata": {},
   "outputs": [],
   "source": [
    "\n",
    "#create a schedule of the cuts\n",
    "myschedule = milliQanScheduler(cutflow, mycuts, myplotter)\n",
    "\n",
    "#print out the schedule\n",
    "myschedule.printSchedule()\n",
    "\n",
    "#create the milliqan processor object\n",
    "myiterator = milliqanProcessor(filelist, branches, myschedule, mycuts, myplotter, max_events=1000)\n",
    "\n",
    "#run the milliqan processor\n",
    "myiterator.run()"
   ]
  },
  {
   "cell_type": "code",
   "execution_count": null,
   "id": "25485357",
   "metadata": {},
   "outputs": [],
   "source": []
  },
  {
   "cell_type": "code",
   "execution_count": null,
   "id": "6af87823",
   "metadata": {},
   "outputs": [],
   "source": []
  },
  {
   "cell_type": "code",
   "execution_count": null,
   "id": "a13d2115",
   "metadata": {},
   "outputs": [],
   "source": [
    "#explore\n",
    "\n",
    "for events in uproot.iterate(\n",
    "\n",
    "            #files\n",
    "            filelist,\n",
    "\n",
    "            #branches\n",
    "            branches,\n",
    "\n",
    "            step_size=1000,\n",
    "\n",
    "            num_workers=8,\n",
    "\n",
    "            ):\n",
    "    print(events)"
   ]
  },
  {
   "cell_type": "code",
   "execution_count": null,
   "id": "8ba2b7fc",
   "metadata": {},
   "outputs": [],
   "source": [
    "#learn iterate\n",
    "for events in uproot.iterate(\n",
    "\n",
    "            #files\n",
    "            filelist,\n",
    "\n",
    "            #branches\n",
    "            branches,\n",
    "            step_size=10\n",
    "    \n",
    "            ):\n",
    "    #print(len(events))\n",
    "    #print(events)\n",
    "    #print(type(events))\n",
    "    expanded_array = ak.to_pandas(events)\n",
    "    print(expanded_array)\n",
    "    print(\"next\")\n",
    "    break\n",
    "    \n",
    "    "
   ]
  },
  {
   "cell_type": "code",
   "execution_count": null,
   "id": "520ed45a",
   "metadata": {},
   "outputs": [],
   "source": [
    "#learn iterate\\\n",
    "branches = ['boardsMatched', 'height', 'layer','type','chan','pickupFlag']\n",
    "for events in uproot.iterate(\n",
    "\n",
    "            #files\n",
    "            filelist,\n",
    "\n",
    "            #branches\n",
    "            branches,\n",
    "            step_size=1000\n",
    "    \n",
    "            ):\n",
    "    \n",
    "    \n",
    "    \n",
    "    #print(len(events))\n",
    "    #print(events)\n",
    "    intialdf = ak.to_pandas(events)\n",
    "    print(intialdf)\n",
    "    \n",
    "    \n",
    "    #print(type(events))\n",
    "    for branch in branches:\n",
    "        if branch == 'boardsMatched': continue\n",
    "        events[branch] = events[branch][events.boardsMatched]\n",
    "    afterdf = ak.to_pandas(events)\n",
    "    #print(afterdf)\n",
    "    \n",
    "    for branch in branches:\n",
    "        if branch == 'boardsMatched': continue\n",
    "        events[branch] = events[branch][events.pickupFlag]\n",
    "    \n",
    "    \n",
    "    lastdf = ak.to_pandas(events)\n",
    "    #print(lastdf)\n",
    "    \n",
    "    \n",
    "    #type cut\n",
    "    barCut = events['type'] == 0 # create pulse base T/F table\n",
    "    for branch in branches:\n",
    "        if branch == 'boardsMatched': continue   #this is needed to avoid too many jacked slice in array.(dont know the meaing)\n",
    "        events[branch] = events[branch][barCut]\n",
    "    \n",
    "    \n",
    "    typpecutdf = ak.to_pandas(events)\n",
    "    #print(typpecutdf)\n",
    "    \n",
    "    #print the key name for high level akw array\n",
    "    field_names = events.fields\n",
    "    #print(field_names)\n",
    "\n",
    "    \n",
    "    \n",
    "    \n",
    "    #print(type(events))\n",
    "    #print(str(events))\n",
    "    \n",
    "    \n",
    "    #pulse height cut 1 npe\n",
    "    heightcut = events.height > 36\n",
    "    #print(heightcut)\n",
    "    \n",
    "    \n",
    "    for branch in branches:\n",
    "        if branch == 'boardsMatched': continue\n",
    "        events[branch] = events[branch][heightcut]\n",
    "    \n",
    "    heightCutdf = ak.to_pandas(events)\n",
    "    #print(heightCutdf)\n",
    "    \n",
    "    \n",
    "    #1 hit + per layer\n",
    "    \n",
    "    events['fourLayerCut'] = ak.any(events.layer==0, axis=1) & ak.any(events.layer==1, axis=1) & ak.any(events.layer==2, axis=1) & ak.any(events.layer==3, axis=1)\n",
    "    #print(ak.to_pandas(events))#event based\n",
    "    events = events[events['fourLayerCut']]\n",
    "    print(\"final result\")\n",
    "    print(ak.to_pandas(events))\n",
    "    \n",
    "    \n",
    "    \n",
    "    \n",
    "    \n",
    "    #FLcut,events=ak.broadcast_arrays(FLcut,events)\n",
    "    #print(FLcut)\n",
    "    #print(events)\n",
    "    #seems doesn't work\n",
    "    #need to used broadcase\n",
    "    \n",
    "    #FLcut = events[events['fourLayerCut']]\n",
    "    \n",
    "    #print(events)\n",
    "    #for branch in branches:\n",
    "    #    if branch == 'boardsMatched': continue\n",
    "    #    events = events[branch][FLcut]\n",
    "    \n",
    "    \n",
    "        \n",
    "    #FLcutdf = ak.to_pandas(events)\n",
    "    #print(FLcutdf)\n",
    "    \n",
    "\n",
    "        \n",
    "    #events[\"heightCut\"] = events.height >= int(1200)  #pulse based table\n",
    "    #events['fourLayerCut'] = ak.any(events.layer==0, axis=1) & ak.any(events.layer==1, axis=1) & ak.any(events.layer==2, axis=1) & ak.any(events.layer==3, axis=1) \n",
    "    #expanded_array = ak.to_pandas(events)\n",
    "    #print(expanded_array)\n",
    "    \n",
    "    print(\"next\")\n",
    "    break"
   ]
  },
  {
   "cell_type": "code",
   "execution_count": null,
   "id": "805f1eed",
   "metadata": {},
   "outputs": [],
   "source": [
    "diaplay(afterdf)"
   ]
  },
  {
   "cell_type": "code",
   "execution_count": null,
   "id": "e7057f2d",
   "metadata": {},
   "outputs": [],
   "source": [
    "display(expanded_array)"
   ]
  },
  {
   "cell_type": "code",
   "execution_count": null,
   "id": "87e1743d",
   "metadata": {},
   "outputs": [],
   "source": []
  }
 ],
 "metadata": {
  "kernelspec": {
   "display_name": "Python 3 (ipykernel)",
   "language": "python",
   "name": "python3"
  },
  "language_info": {
   "codemirror_mode": {
    "name": "ipython",
    "version": 3
   },
   "file_extension": ".py",
   "mimetype": "text/x-python",
   "name": "python",
   "nbconvert_exporter": "python",
   "pygments_lexer": "ipython3",
   "version": "3.9.6"
  }
 },
 "nbformat": 4,
 "nbformat_minor": 5
}
